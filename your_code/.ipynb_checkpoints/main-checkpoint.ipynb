{
 "cells": [
  {
   "cell_type": "markdown",
   "metadata": {},
   "source": [
    "# Before your start:\n",
    "\n",
    "    Read the README.md file\n",
    "    Comment as much as you can and use the resources (README.md file)\n",
    "    Happy learning!"
   ]
  },
  {
   "cell_type": "markdown",
   "metadata": {},
   "source": [
    "In this exercise, we  will generate random numbers from the continuous disributions we learned in the lesson. There are two ways to generate random numbers:\n",
    "\n",
    "1. Using the numpy library \n",
    "1. using the Scipy library \n",
    "\n",
    "Use either or both of the lbraries in this exercise."
   ]
  },
  {
   "cell_type": "code",
   "execution_count": 1,
   "metadata": {},
   "outputs": [],
   "source": [
    "import numpy as np\n",
    "import pandas as pd"
   ]
  },
  {
   "cell_type": "markdown",
   "metadata": {},
   "source": [
    "## Uniform Distribution\n",
    "\n",
    "To generate uniform random numbers between any two given values using scipy, we can either use the following code or the code that we have\n",
    "discussed in class:"
   ]
  },
  {
   "cell_type": "code",
   "execution_count": 4,
   "metadata": {
    "ExecuteTime": {
     "end_time": "2019-08-02T06:07:54.802557Z",
     "start_time": "2019-08-02T06:07:54.330877Z"
    }
   },
   "outputs": [
    {
     "name": "stdout",
     "output_type": "stream",
     "text": [
      "[2.4462681  2.21389311 2.61417955 2.39456582 2.77887502 2.42328549\n",
      " 2.17353173 2.12090388 2.01800434 2.76278463]\n"
     ]
    }
   ],
   "source": [
    "from scipy.stats import uniform\n",
    "x = uniform.rvs(size=10)\n",
    "a = 2\n",
    "b = 3\n",
    "randoms  = a + (b-a)*x\n",
    "print(randoms)"
   ]
  },
  {
   "cell_type": "markdown",
   "metadata": {},
   "source": [
    "**Your task:**\n",
    "\n",
    "1. Based on the code above, write a function that generates uniformly distributed random numbers. There are several requirements for your function:\n",
    "    * It should accept 3 parameters: \n",
    "        * `bottom` - the lower boundary of the generated numbers\n",
    "        * `ceiling` - the upper boundary of the generated numbers\n",
    "        * `count` - how many numbers to generate\n",
    "    * It should return an array of uniformly distributed random numbers\n",
    "\n",
    "1. Call your function with 2 sets of params below:\n",
    "    * bottom=10, ceiling=15, count=100\n",
    "    * bottom=10, ceiling=60, count=1,000\n",
    "\n",
    "1. Plot the uniform distributions generated above using histograms, where x axis is the value and y axis is the count. Let the histogram's number of bins be 10."
   ]
  },
  {
   "cell_type": "code",
   "execution_count": 8,
   "metadata": {
    "ExecuteTime": {
     "end_time": "2019-08-02T06:07:54.808337Z",
     "start_time": "2019-08-02T06:07:54.805916Z"
    }
   },
   "outputs": [],
   "source": [
    "# Based on the code above, write a function that generates uniformly distributed random numbers\n",
    "def uni(bottom, ceiling, count):\n",
    "    x = uniform.rvs(size=count)\n",
    "    a = bottom\n",
    "    b = ceiling\n",
    "    randoms = a + (b - a) * x\n",
    "    return randoms"
   ]
  },
  {
   "cell_type": "code",
   "execution_count": 9,
   "metadata": {},
   "outputs": [
    {
     "data": {
      "text/plain": [
       "array([14.70220143, 12.57378161, 13.2272298 , 13.00148148, 10.86194741,\n",
       "       14.48243646, 14.41672051, 10.37280544, 14.08082421, 12.72569236,\n",
       "       12.36913491, 14.80283702, 14.5484352 , 11.75810255, 12.94891566,\n",
       "       12.41191921, 13.96953405, 14.70826865, 11.26614407, 14.77316975,\n",
       "       12.03874598, 10.85972027, 10.53157271, 12.5435505 , 11.70078508,\n",
       "       13.32515003, 14.06273701, 10.23466875, 11.97358101, 12.57491985,\n",
       "       11.20980467, 14.21079712, 12.27628708, 13.69240164, 14.47758054,\n",
       "       11.54203015, 10.84247073, 12.98796366, 14.32802769, 12.73348933,\n",
       "       10.73741251, 13.31556785, 10.7614177 , 13.18415408, 12.71246452,\n",
       "       14.50295229, 12.2912099 , 10.00207821, 11.7876345 , 11.38354384,\n",
       "       14.03848498, 13.00825185, 13.52775595, 13.58868426, 14.74261152,\n",
       "       13.77396751, 13.36708088, 14.28978108, 14.64829332, 14.3231935 ,\n",
       "       11.82466228, 11.50545466, 10.9574518 , 13.79562169, 10.7876231 ,\n",
       "       10.67751014, 14.82074401, 13.71465779, 10.60256147, 14.43415594,\n",
       "       12.48615949, 10.54740906, 13.84420036, 13.02781894, 12.8663052 ,\n",
       "       12.13973743, 11.69953478, 12.76149026, 12.38312519, 12.76611797,\n",
       "       13.45782307, 13.02376088, 10.29319477, 11.41853575, 12.86456184,\n",
       "       10.42693758, 11.54609297, 13.33498021, 13.91978219, 14.41387832,\n",
       "       13.63774891, 10.45084657, 10.53309265, 13.49294219, 12.83644327,\n",
       "       11.31374772, 10.56530638, 11.27461502, 13.17883572, 10.27475624])"
      ]
     },
     "execution_count": 9,
     "metadata": {},
     "output_type": "execute_result"
    }
   ],
   "source": [
    "# Call your function with bottom=10, ceiling=15, count=100\n",
    "uni(bottom=10, ceiling=15, count=100)"
   ]
  },
  {
   "cell_type": "code",
   "execution_count": 10,
   "metadata": {},
   "outputs": [
    {
     "data": {
      "text/plain": [
       "array([23.6114273 , 44.72959452, 21.59500658, 54.28999006, 45.3836721 ,\n",
       "       25.36269788, 53.21235272, 53.20109251, 14.19736581, 23.49103551,\n",
       "       29.7696356 , 47.12338143, 30.10865351, 19.11548337, 15.936114  ,\n",
       "       41.72851657, 19.95256742, 50.13228585, 10.09831803, 49.57827425,\n",
       "       50.73221782, 32.62677097, 42.68661281, 31.83103573, 22.26482215,\n",
       "       46.16559077, 10.11076421, 29.21494933, 13.04572807, 40.93002867,\n",
       "       10.59166183, 11.25905926, 20.22174082, 50.47580295, 12.29807618,\n",
       "       21.57568059, 58.25882456, 21.98310714, 58.73709356, 21.99587541,\n",
       "       43.65409029, 47.44883073, 11.95904061, 47.61381484, 33.49067813,\n",
       "       40.63047923, 11.22406199, 52.04048391, 34.01534787, 55.48305657,\n",
       "       59.19476577, 23.90281075, 59.59272002, 50.13447241, 55.86478398,\n",
       "       46.34125995, 59.53852029, 19.72140597, 44.905666  , 36.02914954,\n",
       "       59.24682321, 44.2610052 , 21.59990185, 37.88282027, 42.60495528,\n",
       "       30.23990692, 40.44683414, 57.0386802 , 14.71538908, 26.05177009,\n",
       "       47.25496962, 15.06864503, 19.04137496, 45.73934243, 10.07631716,\n",
       "       11.43262062, 27.42032327, 53.68490323, 21.76649632, 10.56509806,\n",
       "       43.45602653, 14.3823451 , 11.79740694, 32.97938025, 22.0900202 ,\n",
       "       35.26721464, 31.45052438, 52.19971484, 18.19214487, 24.77581877,\n",
       "       45.72024582, 54.07715861, 10.63453665, 11.25447879, 32.91802106,\n",
       "       16.59841497, 19.07647764, 44.04681152, 49.66725272, 11.76491114,\n",
       "       29.09466919, 25.90199   , 23.0794146 , 38.67097364, 44.39203977,\n",
       "       11.58007252, 55.47530449, 42.10935019, 14.68664626, 26.65519231,\n",
       "       34.6855674 , 28.81236667, 15.20965114, 52.29449268, 36.71523801,\n",
       "       53.57311085, 10.3129713 , 11.27547579, 10.24042762, 44.31205171,\n",
       "       59.37859821, 54.11798876, 41.16307525, 25.91048291, 39.31105437,\n",
       "       25.11466718, 48.23753329, 12.71537984, 29.67761381, 41.7458386 ,\n",
       "       47.32109103, 49.96604746, 30.27689519, 20.99686527, 42.18442589,\n",
       "       25.85436831, 34.70417149, 15.60137547, 16.61903131, 57.60952564,\n",
       "       57.8327015 , 43.26107053, 32.3508814 , 26.93179829, 10.15007886,\n",
       "       27.130447  , 18.28721752, 15.24452535, 39.39850008, 27.40357986,\n",
       "       11.98072896, 29.1541807 , 44.6868481 , 16.48519385, 44.07314725,\n",
       "       59.23372357, 50.84930036, 29.97244335, 29.93304501, 46.83350579,\n",
       "       43.09543687, 41.7310821 , 17.78879264, 41.97616045, 44.67009936,\n",
       "       40.92876316, 33.73585817, 12.71897202, 27.22664161, 35.66339423,\n",
       "       59.66917104, 51.53860027, 44.00399823, 25.54904851, 11.34492464,\n",
       "       17.12633305, 14.62562611, 11.78045122, 11.47930578, 35.14643314,\n",
       "       29.62836611, 21.29493223, 50.31346638, 10.43453555, 37.00178152,\n",
       "       31.29372094, 21.04754261, 20.20604918, 37.08919843, 26.54682779,\n",
       "       48.85343641, 59.64167249, 53.89650623, 16.53240113, 25.38203986,\n",
       "       48.5217573 , 36.174799  , 53.98267313, 29.96422735, 51.49190252,\n",
       "       38.98321293, 50.80369285, 58.88023054, 55.8309877 , 51.63950822,\n",
       "       58.8288454 , 34.15117287, 39.27403203, 46.56170433, 20.77391697,\n",
       "       56.47434068, 34.72381877, 59.20288844, 21.08163957, 54.40344803,\n",
       "       21.89510079, 44.22191839, 20.19850342, 18.3496981 , 48.48894431,\n",
       "       40.52841873, 44.18499   , 18.21257859, 29.34853498, 12.15262468,\n",
       "       17.4755887 , 19.40183995, 53.50377932, 31.98671919, 36.65416305,\n",
       "       12.50390791, 55.07048773, 25.90197153, 44.79716953, 53.63618668,\n",
       "       37.19506677, 17.16130388, 18.30597128, 59.041833  , 21.48037724,\n",
       "       28.60572732, 55.33517563, 13.03248707, 48.21443851, 52.1707893 ,\n",
       "       52.41337674, 45.90684378, 54.434753  , 26.04142547, 45.85413025,\n",
       "       27.11318744, 54.24033982, 41.1262895 , 52.12737671, 31.36588636,\n",
       "       42.64019983, 30.4738848 , 29.79030715, 47.83002554, 58.91443038,\n",
       "       39.45034127, 26.24193711, 34.03785816, 23.2838844 , 58.83749924,\n",
       "       53.63050093, 22.87428449, 36.00773315, 58.58454797, 20.1492833 ,\n",
       "       40.69729818, 25.79057307, 10.35935448, 55.63929099, 34.00495883,\n",
       "       26.89049469, 27.08801842, 11.82169474, 47.2852572 , 27.13920745,\n",
       "       58.64715702, 57.73315203, 12.59937903, 47.073587  , 40.45658778,\n",
       "       16.05667994, 46.11689625, 19.54677925, 16.71253317, 32.54896149,\n",
       "       37.56180889, 27.4582956 , 14.12380556, 10.05526392, 15.62931331,\n",
       "       48.76620441, 16.11891652, 58.36794312, 27.65915489, 34.25743642,\n",
       "       36.56951363, 22.69385725, 52.47377523, 14.87478633, 15.05802735,\n",
       "       37.19623858, 25.46687951, 56.12145969, 31.23211175, 21.07329438,\n",
       "       48.64734327, 46.0449674 , 20.87856127, 33.65804016, 51.50488789,\n",
       "       22.1478268 , 47.67404967, 15.01762973, 58.5769184 , 50.49347863,\n",
       "       23.58852705, 43.76032138, 34.6333884 , 16.37403555, 55.81080866,\n",
       "       22.9382926 , 38.09052601, 35.58479073, 43.20783124, 23.07131927,\n",
       "       39.65213197, 22.76889806, 12.2081942 , 30.1712336 , 59.71084458,\n",
       "       27.97570989, 40.8220608 , 46.81935182, 13.39211871, 34.15007104,\n",
       "       58.1129212 , 48.78820791, 57.87943587, 31.99295586, 35.95073407,\n",
       "       14.36913999, 51.59895116, 45.93228448, 48.46145076, 38.6643613 ,\n",
       "       36.0605364 , 54.48445226, 18.71806283, 30.69382453, 39.29025458,\n",
       "       35.80797212, 39.56972671, 47.42022069, 32.3168681 , 18.37373933,\n",
       "       52.39522224, 51.99369388, 35.49988887, 10.96795284, 21.96116479,\n",
       "       27.01593697, 28.10489286, 11.36768526, 52.98131737, 57.40064873,\n",
       "       48.00546512, 22.11792622, 37.85609626, 24.29585818, 10.03187535,\n",
       "       47.92406183, 34.32016446, 29.09601285, 21.84921293, 28.63199424,\n",
       "       31.96405909, 44.96928517, 50.45792456, 43.01865164, 49.55916581,\n",
       "       56.12548335, 22.42334875, 20.88242344, 38.63313467, 45.09509356,\n",
       "       31.65940565, 24.39189576, 58.52157641, 10.4647315 , 46.70648496,\n",
       "       50.88959468, 27.19331906, 31.70472887, 32.50046383, 23.20481803,\n",
       "       13.85099293, 25.55964469, 13.84608364, 41.08754232, 39.5991022 ,\n",
       "       37.50360568, 56.89263484, 28.56715578, 39.25770783, 36.50488877,\n",
       "       50.67790688, 31.2616905 , 58.48899199, 39.64694161, 16.34877153,\n",
       "       23.6130066 , 12.91249004, 29.82468965, 40.6765571 , 36.92226414,\n",
       "       59.97144371, 28.43505766, 14.27477656, 56.08991308, 18.75195645,\n",
       "       28.59223151, 11.89708298, 42.99192679, 26.6133249 , 51.16768072,\n",
       "       23.4142716 , 28.9479827 , 56.39066898, 30.41479288, 55.47788495,\n",
       "       14.73668781, 28.16100258, 38.05740512, 27.75176812, 45.47739722,\n",
       "       50.24201057, 59.8145488 , 14.18355366, 34.35977302, 42.86785858,\n",
       "       56.53702317, 37.42151249, 43.77926322, 45.66610605, 34.91054961,\n",
       "       40.2510387 , 21.19609975, 49.63052543, 41.17067593, 52.51133544,\n",
       "       19.84114228, 55.90502422, 17.60967191, 14.84022313, 16.73727994,\n",
       "       12.81463193, 46.94918935, 12.64927039, 35.54599346, 54.01296328,\n",
       "       26.75188546, 44.65105827, 19.85801106, 45.39487393, 24.84686811,\n",
       "       11.90035725, 46.1846075 , 54.59026986, 25.55701946, 21.25043338,\n",
       "       20.20242426, 51.90967181, 17.10512706, 29.20017114, 45.81828649,\n",
       "       30.19229839, 21.04936978, 51.18617933, 59.61690267, 47.68442176,\n",
       "       50.28853476, 36.91638285, 34.24008184, 21.75140327, 13.35357629,\n",
       "       56.55805615, 43.19481706, 37.68377962, 45.02344744, 36.28987297,\n",
       "       18.50506284, 54.91520111, 19.97401023, 34.74566444, 28.75340849,\n",
       "       46.2281474 , 22.27620031, 55.09312856, 19.82493695, 10.13390778,\n",
       "       20.65510661, 53.87463812, 16.52032263, 10.5171027 , 22.83950369,\n",
       "       34.69566797, 11.19326351, 25.82197628, 44.35217542, 17.32266086,\n",
       "       10.46045897, 17.9976061 , 16.41081425, 35.82731905, 19.03838707,\n",
       "       30.52237237, 42.34200109, 20.93630751, 43.6207858 , 33.50555754,\n",
       "       51.4626945 , 54.97967587, 41.5187463 , 56.00959584, 49.75241366,\n",
       "       40.82453664, 12.07703343, 25.02804843, 13.48873366, 46.63650027,\n",
       "       20.93413506, 17.74349936, 36.83588639, 12.53261947, 57.24047668,\n",
       "       33.47795941, 59.23855252, 58.25990903, 37.59602677, 53.82304367,\n",
       "       43.31730053, 59.62836168, 46.06631267, 32.62324639, 36.15299826,\n",
       "       54.63120271, 50.99330882, 43.49772074, 48.00187326, 22.66856624,\n",
       "       29.24931006, 23.4455576 , 36.58241533, 33.22147849, 22.53605504,\n",
       "       45.15684743, 33.95784146, 49.17003285, 22.37521374, 10.54155424,\n",
       "       10.54264719, 10.34727129, 41.68329476, 15.17103585, 15.0097512 ,\n",
       "       30.26198525, 42.3627695 , 56.14303553, 13.0590045 , 12.71846862,\n",
       "       39.74851833, 36.06438288, 45.00196226, 36.73067163, 12.63359415,\n",
       "       50.39321179, 53.80941051, 55.09782859, 32.83709533, 33.79579387,\n",
       "       29.03172397, 47.60714819, 52.80619763, 56.12857726, 43.38556292,\n",
       "       50.34953187, 52.72399082, 45.95355792, 50.44186864, 29.16679707,\n",
       "       30.99053133, 36.31813599, 44.98067116, 27.88807595, 10.68606501,\n",
       "       37.09533894, 35.45731012, 27.40588686, 54.95149852, 19.87536667,\n",
       "       37.37970052, 21.84811163, 23.64642898, 29.70670685, 28.68365012,\n",
       "       52.91034713, 30.95359924, 23.99864113, 34.3224304 , 12.66959076,\n",
       "       56.94162559, 45.68603433, 58.51430632, 56.4912409 , 31.02291089,\n",
       "       44.6217569 , 34.99083911, 34.1000943 , 39.00042794, 13.76540332,\n",
       "       17.73940698, 26.28585982, 19.09753853, 56.89190391, 19.7304416 ,\n",
       "       59.17696834, 33.64730797, 48.50344404, 39.62331401, 17.9137893 ,\n",
       "       41.10550419, 40.04440258, 27.50186096, 21.67626218, 39.49904808,\n",
       "       26.04759198, 41.27832617, 59.05602431, 40.94341377, 56.94384658,\n",
       "       40.55103156, 12.67199733, 44.56112503, 43.73067813, 49.02315508,\n",
       "       11.37960485, 36.90883854, 25.67408408, 21.31820575, 28.89362593,\n",
       "       11.503217  , 29.34524035, 55.37481636, 20.07132348, 17.16204486,\n",
       "       47.86791687, 47.66986845, 20.09025114, 42.70477643, 54.88354531,\n",
       "       33.08859477, 30.72571717, 38.25252483, 31.3727504 , 45.18354687,\n",
       "       49.7652791 , 59.29035978, 45.23001347, 50.19813956, 47.75543379,\n",
       "       59.38682082, 49.14580139, 47.53188031, 13.72822883, 36.02560856,\n",
       "       16.90493907, 21.93213496, 44.48135337, 13.59949153, 32.12640518,\n",
       "       22.0728709 , 32.65168814, 57.02450756, 46.46733458, 42.27583758,\n",
       "       32.28384349, 32.31003932, 37.39172411, 26.69810024, 25.48457058,\n",
       "       58.91977528, 55.38072286, 35.71504409, 52.24512557, 20.95770063,\n",
       "       24.62425866, 27.70370269, 28.3650741 , 16.30946618, 48.82062093,\n",
       "       12.2700696 , 51.83567259, 11.68846747, 13.57031049, 13.42409186,\n",
       "       16.65886343, 39.78082647, 30.89853939, 29.93254707, 47.4545619 ,\n",
       "       45.59285356, 32.02303998, 44.64764652, 35.09204707, 26.11307124,\n",
       "       15.39434443, 28.4922945 , 37.94031531, 45.89493786, 32.79616074,\n",
       "       38.8853111 , 27.59701641, 50.66390594, 48.57925752, 52.38367628,\n",
       "       53.00426811, 25.82716394, 49.47617767, 29.30145812, 14.00312618,\n",
       "       12.26233988, 38.10980818, 10.1571703 , 55.61034435, 35.17364469,\n",
       "       34.93117273, 21.8949569 , 21.37162571, 25.21754583, 38.67122393,\n",
       "       11.24365603, 43.55156314, 34.16011692, 52.36955292, 32.30786185,\n",
       "       21.04611032, 30.97557462, 13.7791939 , 52.3703463 , 33.17727598,\n",
       "       47.58750748, 40.32121741, 54.3804913 , 22.23264263, 48.31901078,\n",
       "       47.18302065, 23.31800945, 30.65061157, 36.21534118, 48.82840643,\n",
       "       49.61132737, 32.31026835, 25.35316312, 46.2969488 , 19.3235412 ,\n",
       "       57.8438896 , 55.93197904, 10.17706033, 20.48469777, 39.66323016,\n",
       "       38.11961793, 42.99338121, 50.01736166, 51.13127389, 42.6157155 ,\n",
       "       11.82714914, 13.94156335, 55.5874042 , 39.59736545, 38.68095274,\n",
       "       23.64439585, 33.40256339, 24.8232259 , 24.43572256, 29.2627039 ,\n",
       "       15.8029706 , 12.28432443, 55.64935575, 50.43241528, 27.4189214 ,\n",
       "       27.7102606 , 11.69123574, 24.82710825, 12.09722276, 17.68014856,\n",
       "       17.36776362, 53.93803476, 20.59206638, 56.50787208, 49.02112708,\n",
       "       25.02834793, 44.38102362, 24.86770202, 22.83205216, 41.31649589,\n",
       "       34.22455163, 44.82550426, 31.36517292, 21.96166382, 51.04632672,\n",
       "       48.92568503, 43.70853614, 26.26109187, 39.25756283, 42.2299443 ,\n",
       "       21.39005531, 21.59930698, 59.81735544, 44.04182597, 20.49685562,\n",
       "       24.02594067, 24.28300434, 15.53167474, 35.59002305, 24.21637759,\n",
       "       46.51472153, 18.77255716, 40.44333585, 32.59056688, 11.54818372,\n",
       "       33.23238584, 29.51808745, 58.37836105, 56.49978483, 44.80810424,\n",
       "       35.92892634, 38.47612047, 27.70265281, 14.17085458, 30.93961247,\n",
       "       33.13065203, 48.14601533, 45.57467642, 49.21834468, 37.82311077,\n",
       "       39.38967528, 14.24251411, 33.86569479, 13.37357178, 36.3655642 ,\n",
       "       43.69798947, 41.98401776, 29.05534656, 31.04387312, 41.31762908,\n",
       "       53.51173569, 44.19703286, 47.12386462, 32.22348537, 34.27270754,\n",
       "       58.75741989, 29.51565008, 50.78064626, 24.6915907 , 56.93437618,\n",
       "       28.087735  , 38.57933514, 50.06079738, 25.50620876, 12.46522901,\n",
       "       51.72420626, 28.42202314, 49.37672583, 34.33422769, 14.91305286,\n",
       "       53.68646374, 45.58770767, 58.02334987, 56.52944577, 21.30156237,\n",
       "       41.30732769, 21.08354071, 41.65567914, 25.64888438, 33.96836069,\n",
       "       27.13146115, 34.52206619, 10.41564685, 51.82248698, 43.46762576,\n",
       "       27.4384396 , 30.51066745, 45.0757639 , 58.39150471, 40.92443035,\n",
       "       59.8939009 , 53.39331288, 58.99706117, 56.57847734, 44.73446466,\n",
       "       10.9256017 , 17.63700579, 39.79241583, 34.8020352 , 49.28655437,\n",
       "       22.21555491, 59.93090031, 28.4611691 , 49.24179991, 49.041352  ,\n",
       "       55.74595924, 33.76725706, 17.33966033, 17.55675116, 59.84427359,\n",
       "       17.69784784, 19.85731882, 33.26483882, 54.85636647, 50.79661309,\n",
       "       15.91581157, 49.12570832, 29.91018277, 58.28436704, 22.56371652,\n",
       "       11.7606412 , 33.43562486, 50.06401536, 36.98571838, 23.97130183,\n",
       "       56.51520767, 15.71940707, 21.96797914, 31.44409459, 20.78446077,\n",
       "       18.1924835 , 56.28890186, 38.21423659, 29.16616663, 45.24342295,\n",
       "       59.28045375, 12.26064866, 12.0535857 , 12.37442965, 10.80024421,\n",
       "       39.07978098, 29.94666903, 51.68501955, 20.01831399, 55.27701425,\n",
       "       32.27285194, 56.21393274, 47.92638973, 35.51464204, 20.32742977,\n",
       "       39.99731743, 21.33474868, 44.85167697, 59.02168941, 31.2881294 ,\n",
       "       23.80572654, 38.16365305, 21.52595918, 21.33449607, 27.02192733,\n",
       "       34.87270612, 29.80369915, 42.05346339, 47.11444641, 36.86477441,\n",
       "       29.97286463, 38.62134014, 17.34046895, 46.50390588, 56.75896819,\n",
       "       12.19268868, 51.6170843 , 53.74697658, 50.42352035, 31.56709855,\n",
       "       37.32637525, 55.73536972, 47.63304747, 10.48537766, 59.79656553,\n",
       "       59.88216775, 32.88608984, 34.57303251, 50.88620111, 18.75052902,\n",
       "       26.09184692, 44.40291615, 46.0159472 , 47.18745749, 16.43761316])"
      ]
     },
     "execution_count": 10,
     "metadata": {},
     "output_type": "execute_result"
    }
   ],
   "source": [
    "# Call your function with bottom=10, ceiling=60, count=1000\n",
    "uni(bottom=10, ceiling=60, count=1000)"
   ]
  },
  {
   "cell_type": "markdown",
   "metadata": {},
   "source": [
    "How are the two distributions different?"
   ]
  },
  {
   "cell_type": "code",
   "execution_count": 22,
   "metadata": {},
   "outputs": [],
   "source": [
    "import matplotlib.pyplot as plt\n",
    "import seaborn as sns\n",
    "plt.rcParams['figure.figsize'] = (10,6)"
   ]
  },
  {
   "cell_type": "code",
   "execution_count": 28,
   "metadata": {
    "ExecuteTime": {
     "end_time": "2019-08-02T06:07:54.812745Z",
     "start_time": "2019-08-02T06:07:54.810660Z"
    }
   },
   "outputs": [
    {
     "data": {
      "text/plain": [
       "<AxesSubplot:ylabel='Count'>"
      ]
     },
     "execution_count": 28,
     "metadata": {},
     "output_type": "execute_result"
    },
    {
     "data": {
      "image/png": "[encoded data removed]",
      "text/plain": [
       "<Figure size 720x432 with 1 Axes>"
      ]
     },
     "metadata": {
      "needs_background": "light"
     },
     "output_type": "display_data"
    }
   ],
   "source": [
    "# Plot the uniform distributions generated above using histograms, where x axis is the value and y axis is the count. \n",
    "# Let the histogram's number of bins be 10.\n",
    "sns.histplot(bins=10, data=uni(bottom=10, ceiling=15, count=100))"
   ]
  },
  {
   "cell_type": "code",
   "execution_count": 27,
   "metadata": {},
   "outputs": [
    {
     "data": {
      "text/plain": [
       "<AxesSubplot:ylabel='Count'>"
      ]
     },
     "execution_count": 27,
     "metadata": {},
     "output_type": "execute_result"
    },
    {
     "data": {
      "image/png": "[encoded data removed]",
      "text/plain": [
       "<Figure size 720x432 with 1 Axes>"
      ]
     },
     "metadata": {
      "needs_background": "light"
     },
     "output_type": "display_data"
    }
   ],
   "source": [
    "sns.histplot(bins=10, data=uni(bottom=10, ceiling=60, count=1000))"
   ]
  },
  {
   "cell_type": "code",
   "execution_count": null,
   "metadata": {},
   "outputs": [],
   "source": [
    "# How are the two distributions different?\n",
    "# The second distribution is more uniform than the first one. The larger the count, the more uniform it becomes. "
   ]
  },
  {
   "cell_type": "markdown",
   "metadata": {},
   "source": [
    "## Normal Distribution\n",
    "\n",
    "1. In the same way in the Uniform Distribution challenge, write a function that generates normally distributed random numbers.\n",
    "1. Generate 1,000 normally distributed numbers with the average of 10 and standard deviation of 1\n",
    "1. Generate 1,000 normally distributed numbers with the average of 10 and standard deviation of 50\n",
    "2. Plot the distributions of the data generated."
   ]
  },
  {
   "cell_type": "code",
   "execution_count": 30,
   "metadata": {},
   "outputs": [],
   "source": [
    "from scipy import stats"
   ]
  },
  {
   "cell_type": "code",
   "execution_count": 35,
   "metadata": {},
   "outputs": [],
   "source": [
    "# write a function that generates normally distributed random numbers\n",
    "def normal(mean, stdev, count):\n",
    "    return stats.norm.rvs(loc=mean, scale=stdev, size=count)"
   ]
  },
  {
   "cell_type": "code",
   "execution_count": 36,
   "metadata": {},
   "outputs": [
    {
     "data": {
      "text/plain": [
       "array([10.48250687,  9.94067827,  9.21912   ,  9.55731136, 10.78870214,\n",
       "       10.98231785, 11.1661436 ,  9.75404863,  9.65345961, 11.38564191,\n",
       "       10.65987293, 10.56135123,  9.28499683,  9.41776582,  8.01901783,\n",
       "        8.71432215, 10.4252726 ,  9.80786327, 11.28480451,  7.81913908,\n",
       "        9.02802876, 10.18664135,  8.54664348,  9.80917639, 10.88125618,\n",
       "       11.18773652, 10.92635575, 10.46166937,  7.91319179,  9.22474344,\n",
       "       11.44112538, 11.56971971,  8.15117471, 10.32423824,  9.07501701,\n",
       "       11.36753893,  7.47162702, 10.6368758 , 11.12865101, 10.04196786,\n",
       "       11.57193685,  9.90953667,  8.85944266,  9.83679604,  8.38594903,\n",
       "        9.99047173,  9.91341289, 11.66856302, 10.06168297,  8.71667073,\n",
       "        9.077109  , 11.59927765, 10.03465983, 10.21781973, 10.36465627,\n",
       "       11.3552639 ,  9.49919339,  8.3613379 , 10.17545101, 10.58835439,\n",
       "       10.38210056, 10.4356829 , 10.26161804, 10.86973149,  9.93241478,\n",
       "        7.82435486, 10.22167357,  9.40565008,  9.76918619,  9.0695916 ,\n",
       "        9.55697637, 10.0824515 , 10.13169523,  9.70622453,  8.48423167,\n",
       "        9.07309205, 10.46752656,  9.77988877, 11.31166553,  9.71824111,\n",
       "       11.16250605,  9.7081499 ,  9.90149807, 10.99524763, 10.29969659,\n",
       "       10.20565899,  7.64822395, 11.43089326, 10.80385999,  8.64198808,\n",
       "       10.48483539, 10.96907329,  9.81149512, 11.05832767,  9.47701876,\n",
       "       11.11598044,  9.55234734, 11.41413753,  9.80294735,  9.80586967,\n",
       "       10.87697757, 10.55779784, 10.89650287,  9.28400683, 10.11238265,\n",
       "       11.01719592, 10.98324345,  8.82841106, 10.57327357, 11.05709102,\n",
       "       10.3061127 , 10.447124  , 10.58979539,  8.62549031,  9.73021846,\n",
       "        9.71808679, 10.81534417, 11.02119782,  8.6702489 ,  8.93614073,\n",
       "       10.6555354 ,  9.92372298, 11.13288659, 11.12638587,  9.31416682,\n",
       "        8.91140515,  9.69303313,  9.79429353,  8.91739418,  9.7748667 ,\n",
       "        9.90500368,  9.48377289,  9.54585465,  9.95160031,  9.62263419,\n",
       "        9.61600855,  9.91322078,  8.93123195,  9.36734246, 10.00957778,\n",
       "        9.40024171, 11.39709553,  9.84612539, 10.25016031, 11.85209847,\n",
       "       11.16819078, 10.83084605, 10.97349257,  8.03198542, 11.14860031,\n",
       "        9.87224521, 10.37635206, 10.3498005 ,  9.29692629,  9.33632975,\n",
       "       10.56542148,  9.13789667, 10.93243348, 10.633375  , 11.4349176 ,\n",
       "        8.5713914 ,  8.58619123, 12.29025947, 10.10913289, 10.85744967,\n",
       "       10.43814993, 10.32260897,  9.53797436,  9.80125009,  8.6526773 ,\n",
       "        9.99156191,  9.41070373, 10.72224031,  9.28112004, 12.34897712,\n",
       "        9.31312197,  9.8920308 ,  9.26776677, 11.6525084 , 11.54077216,\n",
       "        9.61314069,  9.00028026, 12.3211319 ,  9.0335787 , 10.96738644,\n",
       "       10.29013865,  8.87450008, 10.48990888, 12.03784516,  9.44648928,\n",
       "       11.11091655, 10.15550426,  9.53108679,  9.58629587, 10.17434607,\n",
       "       10.99208167,  9.37181806, 10.51820309,  9.50377689, 12.0461952 ,\n",
       "        9.51405912, 10.11801119,  8.65990635, 10.0372288 ,  9.63574433,\n",
       "       12.42990466,  9.73247985,  9.84891047,  9.53038187,  9.99237902,\n",
       "        9.4951623 ,  9.8302507 , 10.26992811,  7.79188191,  9.68615754,\n",
       "        9.23810899,  9.68094854, 10.09632731,  7.82438309,  9.872129  ,\n",
       "        8.47020078,  9.92659066,  9.80348902, 10.27593873, 11.1360118 ,\n",
       "        9.97513346,  9.80574097, 10.3779774 ,  8.03144787,  9.48796557,\n",
       "        8.44100897,  8.61380366, 10.57845105,  8.62560108,  9.34381346,\n",
       "        9.74137197,  7.74152818,  7.62494232, 10.32748041,  9.94027343,\n",
       "        7.94414721, 10.77325559,  9.31352067,  9.58037373,  9.37319752,\n",
       "       10.0458538 ,  9.23912165, 11.73315928, 10.86926387, 10.31190944,\n",
       "        8.10612375, 11.53705606,  8.37767515,  9.78159268,  8.30073018,\n",
       "       10.33793105,  9.23627131,  9.91131649, 10.68088928, 11.32853681,\n",
       "        9.39482069,  9.12544382,  9.81183652,  8.9353003 , 10.27430173,\n",
       "        8.92020841,  8.88101867,  9.66073595, 12.01861178,  9.64750876,\n",
       "        9.20256754, 11.87613179,  8.70594313,  9.76457196, 10.49127629,\n",
       "        8.80955641,  8.40138419,  8.97936387,  9.60200429,  9.91959246,\n",
       "        9.17928498, 10.00645732,  9.97549117, 10.27730222,  9.14910055,\n",
       "       10.38339262,  9.97774392,  9.97946301, 11.20459446,  9.9931608 ,\n",
       "       10.60611381, 10.77457867,  9.7669104 ,  9.23462033, 10.35875611,\n",
       "        8.54213831, 10.71406487, 10.12001567, 10.87726092, 11.58063539,\n",
       "        9.87649659, 10.00429737, 11.84138217,  8.63283319,  8.9815533 ,\n",
       "        8.40360019, 10.88502508,  8.49090606, 12.29129907, 11.78186147,\n",
       "        9.78200789, 10.23882603, 10.24434336,  8.88864168, 11.03575353,\n",
       "        9.47360945,  9.92081194, 10.36252248,  8.30762683, 10.74881948,\n",
       "       10.23398847,  9.05746446,  8.75349364,  9.91315065, 11.34670809,\n",
       "       10.45217576, 11.2424104 ,  9.92011759,  9.56346669, 10.83183384,\n",
       "        9.17931455, 10.09583575,  9.31525354, 10.69485479,  9.57254343,\n",
       "       11.55833726,  9.91917819, 11.43745523, 11.85644137,  9.85541007,\n",
       "       10.71984878,  9.71622622,  9.9215079 ,  7.88342342,  9.10277502,\n",
       "       10.53749687, 10.67902671, 12.25466045,  9.92989647, 10.0504704 ,\n",
       "       10.88879674, 10.60764701,  8.81834921, 10.78326125, 10.24375575,\n",
       "        9.28403626,  8.20610846,  8.47275732,  9.2955396 ,  8.88481541,\n",
       "       10.84350616,  9.29531228,  8.34359453, 10.01268238, 10.12159081,\n",
       "        9.0667799 ,  8.77359833,  9.00893197,  9.96832508, 10.59063213,\n",
       "       10.38178635,  9.21718029,  9.08922666,  9.01305403, 10.7702319 ,\n",
       "       11.24065942, 10.94924523,  7.62421233, 10.91902689,  9.74413475,\n",
       "       11.99208507, 10.20037758,  9.68746247, 10.78474949,  9.25059634,\n",
       "        9.54857002, 11.16725699,  9.94129787,  9.43330864,  8.80757886,\n",
       "       11.03844511, 10.61375466,  9.66592563,  9.55928689, 10.21336199,\n",
       "        9.94761582, 12.86507745,  8.99605759,  8.44710696, 10.1798929 ,\n",
       "       10.58136364, 10.76264903, 11.07510809,  7.19180696,  9.80423564,\n",
       "        9.3174636 ,  9.90540595,  9.08470888,  8.5388427 ,  9.08516872,\n",
       "        8.99472682,  8.42180051,  9.5196832 ,  7.75669228,  9.70250978,\n",
       "        8.51065317,  9.35492263, 10.26685484, 10.94537078,  9.81369757,\n",
       "       10.73799125,  8.53603943, 11.01782489, 10.26125441, 11.22432578,\n",
       "        9.13856364, 11.55613064, 10.90467977, 10.16307513,  8.79427173,\n",
       "       11.08511364, 10.05283045,  8.71605007, 10.09347424,  9.82747195,\n",
       "        7.07676317,  8.42479918, 11.90953597, 10.02371309, 10.85750361,\n",
       "       11.19028671, 11.24603874, 10.75546199,  9.90181644, 10.70252208,\n",
       "       10.83491316,  8.86038107,  8.47048121, 10.78804304, 10.38440493,\n",
       "        9.35151156,  9.30252845, 10.06491121, 10.87472072,  7.97649555,\n",
       "        8.31862533, 11.0498713 ,  9.84597427,  6.96653202, 10.73099833,\n",
       "        8.66521198, 10.73302359, 10.5092514 ,  9.54853547, 10.00287242,\n",
       "        8.80980687, 10.36013357,  8.55680581,  8.96304549, 10.87882108,\n",
       "        9.42065071,  9.19491426, 11.0305324 , 10.94701379, 10.58824212,\n",
       "       11.03377158, 10.75837407, 10.04218912, 10.27219464,  9.34788546,\n",
       "        9.352691  ,  8.84634617, 11.54184455, 10.20129451,  8.32262781,\n",
       "        9.17273963, 11.73820284, 10.29274011, 11.17438628,  9.88669203,\n",
       "       11.24181685, 10.07558842, 10.81664165,  9.39129108, 10.91270942,\n",
       "       10.69072719,  9.60740763, 10.31042339, 11.08433327, 10.05742689,\n",
       "       11.07286681, 10.95702443, 12.7335742 , 10.1089649 ,  9.70257267,\n",
       "       10.16152224,  9.06411196, 10.11145272, 10.57302109,  9.21898159,\n",
       "        9.06234398,  8.63474842, 10.43635358, 11.01395692,  9.45775763,\n",
       "       10.25161778,  8.73168279,  9.80972988, 10.04733552, 10.87005501,\n",
       "       10.47465767,  9.59876299,  9.13604654, 11.79599617,  9.27822051,\n",
       "        9.94967952, 10.45593957, 10.3632581 , 10.39052716, 10.0444398 ,\n",
       "        8.7396643 ,  8.95993192, 10.39046782,  9.43246928, 10.05749161,\n",
       "        9.75607395, 10.09901362, 10.38850832, 10.36637412, 10.25655417,\n",
       "       10.19182104, 10.83805472,  9.61128185,  8.94793374,  9.25238054,\n",
       "        9.1298658 , 10.9531099 ,  9.63715732, 11.24907414,  8.27479236,\n",
       "       12.47416182,  7.83219776,  9.25761617,  8.71865654, 10.42663318,\n",
       "       10.03212366, 11.82201739, 10.20353469,  9.61023083,  9.04497717,\n",
       "       11.30646077,  8.34723343, 10.1188126 ,  8.69256383, 10.2105988 ,\n",
       "        9.22944965, 11.3681096 ,  9.29863588,  9.87473685, 10.17914908,\n",
       "       10.01261337,  9.8121013 , 10.87523104,  8.49366706,  9.98013466,\n",
       "       10.83615023, 10.07208184, 10.36410195, 10.15517831,  9.11136759,\n",
       "       10.30244524,  9.45195743, 10.20985653, 10.70820458, 11.13703345,\n",
       "       10.68825027, 10.21013205,  9.5392962 , 10.64399283, 10.42672794,\n",
       "       10.40773211,  9.35545792, 10.33111458, 10.30376754,  9.58645699,\n",
       "       10.42401493,  9.26254379, 10.78208978,  9.59095689, 10.58055981,\n",
       "       10.3330895 ,  9.30415544, 10.71231148, 11.1308844 ,  8.68275158,\n",
       "       10.62475159,  9.96851527, 10.56559569,  9.4132468 , 11.09214482,\n",
       "        9.2017509 , 10.83838981, 10.20261975, 10.37330483, 10.59737951,\n",
       "        9.52565434, 10.77547715, 10.13811015,  8.20665617, 12.08606146,\n",
       "        9.90695917, 10.58483931, 10.61726234, 10.33734446,  8.54539597,\n",
       "       10.89505152,  9.85780139,  8.92954692, 10.71211025, 11.57489534,\n",
       "       10.95303393, 10.37123639, 10.6403391 ,  9.25149125, 12.33393864,\n",
       "       10.36378352, 11.93584093,  8.34125059,  8.86172293, 11.08244846,\n",
       "       13.10468333, 11.11900456, 11.62137286, 11.39633365,  9.44372568,\n",
       "       11.89772892, 11.34346637,  7.93635379,  9.42959799,  9.3093872 ,\n",
       "       11.93743896, 10.16929756, 10.45888211, 10.13861334, 10.97701241,\n",
       "       10.13828353, 10.36557151,  9.1194488 ,  9.12499497, 10.26767902,\n",
       "        7.79477896,  9.96469871, 10.12444112,  8.89102025, 10.81379856,\n",
       "        9.78362708, 12.71364882,  9.78736182,  9.84655885,  8.88161593,\n",
       "        9.18694139, 10.21341096,  8.52626822, 10.16624596, 10.01699177,\n",
       "       10.55412913,  9.88198357, 10.83393441,  9.3115674 ,  9.83215465,\n",
       "       10.18193614,  9.40234539,  9.44248704,  9.00044574,  9.61103603,\n",
       "        9.32101188, 10.81645819, 12.16726833,  9.5081968 , 10.00003641,\n",
       "       10.64551883,  8.35394361,  9.77584209, 11.267321  , 10.44755774,\n",
       "        9.24879388,  8.87118881,  9.74651677, 10.32123785, 10.2293971 ,\n",
       "       10.14036337, 10.58010995, 10.32272652, 10.0524246 ,  9.58709538,\n",
       "        8.36639039,  9.01625787, 10.52842697,  9.90088557, 10.51256878,\n",
       "        8.94549229, 10.17990127,  9.23123079, 10.54955252, 10.50087429,\n",
       "       11.57226624,  8.71854939, 12.73286761, 11.20847585, 12.13352425,\n",
       "        8.75935519, 10.03979152, 10.00258636, 10.66195044, 10.78217379,\n",
       "       10.45609523, 10.21767594,  9.35784638,  9.28737417,  8.9277249 ,\n",
       "        8.78571406,  8.97373721,  8.71639734,  9.83040488, 10.62502877,\n",
       "        9.58067134,  8.83568529,  9.85659355,  9.16941773, 10.40154526,\n",
       "       10.59470062, 10.99552961, 10.3992952 ,  9.62690001,  9.37868857,\n",
       "        9.64819298, 12.16414652,  9.15463649,  9.00735361, 10.55820009,\n",
       "        9.37710927,  9.46126314, 11.15438712, 12.6469566 , 11.7675968 ,\n",
       "       11.80099519,  9.74579112,  9.70404339,  8.39919116,  8.63931838,\n",
       "        9.39234541,  9.75544193, 11.33279492, 11.32233543, 12.06181307,\n",
       "       12.35810302,  8.62175058,  9.80324375,  9.53866106,  9.61688725,\n",
       "        9.52174002,  9.63379215, 10.91595559,  9.91109845,  8.37595973,\n",
       "       10.22473964, 10.26310958,  8.89572088, 10.42672131, 10.11017054,\n",
       "        9.397885  , 10.05729201,  9.90173353, 10.27466315, 10.49623189,\n",
       "        9.6964955 ,  9.22653588,  9.99910053, 10.01752691, 11.03282249,\n",
       "       10.17107094, 11.47212158,  9.06599386, 10.1622861 ,  8.74811776,\n",
       "        9.93770251,  9.31653205, 11.10206606, 10.36739761, 10.5247597 ,\n",
       "        9.07735936,  9.79549092,  9.76901161,  9.43378123, 10.98177569,\n",
       "        9.6548355 , 10.14752581, 10.33263329, 10.10173977,  9.32439098,\n",
       "       10.51659572,  9.60542685,  9.66687817, 10.92111278,  7.89686663,\n",
       "        8.47046569,  8.91015247,  9.8072252 , 10.1732069 ,  9.32885753,\n",
       "       10.13617237, 10.07272976, 11.3007285 ,  9.10372589,  9.55524643,\n",
       "       11.00564056,  8.7467487 , 10.20528012, 10.81168506, 11.68422033,\n",
       "       10.20198684,  9.58442391, 12.7388838 , 11.26711525, 11.42508815,\n",
       "        9.61365231, 10.82809444,  8.69636575, 10.41629739,  9.99116045,\n",
       "        9.9993957 , 10.10903355, 11.24155082,  9.39769278,  8.73971671,\n",
       "       11.75029089,  8.87819162, 11.46232795, 10.31790819,  9.40704354,\n",
       "       10.53775671, 10.82357401, 11.53744361,  9.64123636,  9.54108677,\n",
       "       10.65711411, 10.0488757 ,  9.47177847,  9.47500171, 12.12267953,\n",
       "       10.51389953,  9.82953818, 10.05977109,  8.54009859,  9.64380922,\n",
       "        9.40538633, 11.33243554,  9.72555239,  9.78949582,  9.09702931,\n",
       "        9.66062376, 10.51786936, 10.83845804, 10.45274439,  8.54419373,\n",
       "       10.81525702,  9.61765677,  9.7942935 ,  8.33642548,  8.82836164,\n",
       "       10.11474338, 10.42632512, 12.10122169, 10.36658109, 10.08197081,\n",
       "       10.48063535, 11.51242683, 10.03651432, 11.15662618, 12.02057645,\n",
       "       11.1711266 , 11.37748796, 10.62008745,  9.55113752,  7.51331022,\n",
       "        9.82796702, 10.35269764, 11.72381431, 11.12227186, 10.20046684,\n",
       "        9.91897574,  8.14521072, 10.59430075,  9.20323634, 10.15739325,\n",
       "        8.69741412,  8.14438466,  9.93620298, 11.00921481,  9.54181331,\n",
       "        9.72539459,  8.70708633, 11.08230593,  8.95503443,  9.59505621,\n",
       "        9.19007185,  8.6734459 , 10.20606874,  7.8389849 , 10.35663499,\n",
       "       10.33664372, 10.99713293,  9.49950968,  9.37789113, 11.29853306,\n",
       "        9.89745225, 12.1121218 ,  8.86787286,  9.27479239,  8.90756042,\n",
       "       10.00884303, 11.17328366,  8.65954359,  7.6411693 , 10.84316426,\n",
       "       10.64108701,  8.80308438,  9.81824237,  9.34329139, 10.21439868,\n",
       "       10.02763018, 10.38091561,  9.3901082 , 10.40952623, 11.08919971,\n",
       "        9.04031303,  9.26198538, 10.24240124, 11.26425134, 10.24823544,\n",
       "       10.17866571, 11.65226038, 11.27479213, 10.88857801, 10.10555285,\n",
       "        8.99713145, 10.69877975,  8.22848344,  9.43305862,  9.34837125,\n",
       "       10.22338688,  8.90686448,  8.66722183,  8.5474265 ,  8.61459856,\n",
       "        9.96887647,  9.30844918,  9.57854047,  9.74467741, 10.20095916,\n",
       "        9.71398644, 10.13452136,  9.62183168, 11.22637935,  9.89283567,\n",
       "       10.74498005, 10.32015175, 10.34531446,  9.46776506,  9.21833855,\n",
       "       10.57077734, 10.95782698,  9.47427711, 10.82691508, 10.53071884,\n",
       "        8.53502185,  8.92176329,  9.19945971,  8.54930656,  9.87624585,\n",
       "       11.02791733,  9.52455902, 11.19864339, 10.2861635 , 11.51936496,\n",
       "       10.25811105, 10.26594184,  9.59776951,  9.72052026,  9.33002904])"
      ]
     },
     "execution_count": 36,
     "metadata": {},
     "output_type": "execute_result"
    }
   ],
   "source": [
    "# Generate 1,000 normally distributed numbers with the average of 10 and standard deviation of 1\n",
    "normal(10,1,1000)"
   ]
  },
  {
   "cell_type": "code",
   "execution_count": 37,
   "metadata": {},
   "outputs": [
    {
     "data": {
      "text/plain": [
       "array([-7.03433855e+01, -8.10207474e+01, -1.75652645e+00, -2.56333320e+01,\n",
       "        8.91130030e+01, -5.92360135e+00,  5.21647779e+01,  1.91562554e+01,\n",
       "        2.06813446e+01, -1.88055126e+01, -4.86830605e+01,  9.44222647e+01,\n",
       "        3.14787584e+01,  4.56295964e+01,  4.14529476e+00, -2.95129177e+01,\n",
       "       -4.56578350e+01, -1.22355311e+01, -1.60160789e+01, -2.09292993e+01,\n",
       "        7.82191531e+01, -2.31621546e+00,  2.17691386e+00,  1.65919328e+01,\n",
       "       -1.64918720e+01,  7.94447643e+01, -2.58462122e+01, -2.42205011e+01,\n",
       "        1.44293591e+02, -9.86718498e-02, -7.25603042e+01,  8.86497775e+00,\n",
       "        4.26035855e+01,  6.58730028e+01, -3.97954491e+01, -3.26301635e+00,\n",
       "        1.25913330e+02,  5.46771427e+01, -2.33800765e+01, -3.95403815e+01,\n",
       "        3.70211068e+01, -3.51625811e+01,  5.02471115e+01,  8.66090240e+00,\n",
       "        1.44103825e+02, -2.85419334e+01, -2.48214783e+01, -7.02224133e+00,\n",
       "        5.50106389e+01,  6.74425725e+01, -7.21121019e+01,  4.19372680e+01,\n",
       "       -3.67931480e+01,  1.07471970e+02,  6.19064169e+01,  8.09707697e+01,\n",
       "       -4.03735232e+00,  5.70621944e+01,  1.12286480e+02, -7.56191973e+01,\n",
       "       -2.78002926e+01,  4.07073539e+01,  4.34046590e+01,  2.37011578e+01,\n",
       "        7.26522704e+01, -5.46452664e+01, -3.62936820e+01, -4.55591996e+01,\n",
       "       -8.72577260e+01,  2.71499860e+01,  5.72797767e+01,  1.13045291e+02,\n",
       "        1.43644860e+01,  6.15389272e+01, -1.30787804e+01,  3.73622533e+00,\n",
       "        9.85809017e+01, -6.58831773e+00,  1.28683200e+02, -1.75191058e+01,\n",
       "        3.40764306e+01,  2.91618823e+01,  1.98872130e+01,  8.51385977e+01,\n",
       "       -6.76367467e+01,  2.05100199e+01, -3.27387304e+00, -2.95527029e-01,\n",
       "       -1.26882294e+01, -8.55583886e+01,  4.89085989e+01,  3.92342439e+01,\n",
       "        1.64638629e+00,  1.89281282e+01, -2.16229206e+01, -1.70780908e+01,\n",
       "        3.66130959e+01,  2.37911146e+00,  9.49074548e+00,  4.30663883e+01,\n",
       "       -4.55355507e+01,  5.67061422e+00, -7.10010477e+01,  1.04706488e+01,\n",
       "       -8.17320130e+01, -2.64807945e+01,  8.26336721e+01,  4.56792211e+01,\n",
       "        7.98761494e+01, -5.90048442e+00,  2.96863057e+01,  2.74372467e+00,\n",
       "        6.57887343e+01, -5.90533695e+01, -3.85809256e+01,  1.04205681e+01,\n",
       "        5.61342181e+01, -1.06515538e+02,  3.79247907e+00,  1.50621131e+01,\n",
       "       -1.14942529e+01,  1.15657047e+01, -2.90235725e+00, -1.41591407e+01,\n",
       "        7.09731392e+01,  2.86843752e+01, -3.28038479e+00,  8.94480541e+01,\n",
       "       -4.98753518e+01, -4.20132428e+01, -4.43492625e+01, -1.82003376e+01,\n",
       "        2.91676261e+01,  1.34906673e+01,  8.20614010e+00, -1.69694169e+01,\n",
       "        3.19087608e+01,  9.93202193e+01,  2.88917921e+01,  6.30324353e+01,\n",
       "        1.08897090e+01,  5.34348300e+01, -6.73688866e+01, -2.26812525e+01,\n",
       "        2.07958547e+01,  4.36745295e+01, -4.82183961e+01, -1.30976903e+01,\n",
       "       -6.39420350e+00, -1.04043740e+01, -1.37493608e+01, -3.66807833e+01,\n",
       "       -5.76519537e+01,  5.12380587e+01, -4.29600286e+00, -5.49146106e+01,\n",
       "       -2.07922673e+01, -3.73412677e+01, -6.40863032e+01,  4.38161720e+01,\n",
       "        8.35967543e+01,  4.03218097e+01, -1.36361644e+01,  2.60200104e+00,\n",
       "       -1.11919465e+02,  4.38838176e+01,  1.11647025e+01, -3.14331730e+01,\n",
       "        9.88544685e+01,  9.40694997e+00,  5.62831165e+01, -3.84733732e+01,\n",
       "       -5.04065885e+01,  3.72969985e+01, -5.05579031e+01,  8.88342126e+01,\n",
       "        4.52593838e+01,  3.38590668e+01, -8.26905960e+01, -1.61624075e+01,\n",
       "       -8.78723456e+01, -5.52135577e+01,  5.59566025e+01, -2.97256799e+01,\n",
       "       -4.99426838e+01,  4.13568928e+01,  5.82864003e+01,  3.16358887e+01,\n",
       "        4.75032677e+01,  9.03466230e+01,  6.17104828e+01, -3.79142808e+01,\n",
       "        3.68055791e+00, -3.32987106e+01, -6.23613240e+01,  6.88538049e+01,\n",
       "        5.20903844e+01,  5.22631473e+01,  1.80277334e+01,  5.93239537e+01,\n",
       "       -2.38317130e+01,  1.51642250e+01,  7.19922845e+01,  4.40690783e+01,\n",
       "       -1.27681791e+01,  2.61641199e+01,  7.99013278e+01, -6.82308934e+01,\n",
       "       -8.09163249e+00, -5.55548521e+01,  5.60706863e+01,  6.65886031e+01,\n",
       "       -2.30387871e+00, -3.11293404e+01,  3.39731796e-01, -1.01438804e+02,\n",
       "        9.41957050e+01,  5.78040448e+01,  7.02100404e+01, -3.91304282e+01,\n",
       "        4.69320138e+01,  4.52557387e+01, -1.52320082e+01,  1.31108046e+01,\n",
       "        9.44913816e+01,  5.23756610e+00,  2.85376697e+01, -5.27842375e+00,\n",
       "        9.18704957e+01,  4.22491613e+01,  4.79303319e+01,  3.44897412e+01,\n",
       "        4.57365119e+01, -3.54981867e+01,  9.16222620e+00,  6.60919266e+01,\n",
       "       -4.59486246e+01,  1.34472454e+02, -6.53992435e+01,  4.91487257e+00,\n",
       "       -4.48564067e+00,  2.79899814e+01, -6.76993932e+01, -1.71318520e+01,\n",
       "        1.26687180e+01, -2.29116604e+01, -1.74315555e+01,  6.59997147e+01,\n",
       "        2.47854937e+01, -3.60555167e+01, -1.14790723e+01, -3.58902484e+01,\n",
       "        1.19522059e+01,  8.26591094e+01,  1.37358378e+02,  4.88803148e+01,\n",
       "       -8.61324031e+01, -2.59173380e+00,  5.04713130e+01, -1.65661754e+01,\n",
       "        3.24520614e+00,  5.32938353e+01,  6.24530541e+01, -5.86848361e+01,\n",
       "       -1.48084040e+01,  1.68787966e+01, -3.99766200e+01,  2.48490925e+01,\n",
       "        1.35900923e+00,  7.60486924e+01,  7.14982926e+01,  4.71876316e+01,\n",
       "       -3.25686844e+00,  4.13078250e+01, -1.44189757e+01, -3.50098851e+01,\n",
       "        2.89199082e+00,  2.21295541e+01, -4.95168178e+00,  5.95703331e+01,\n",
       "       -5.04460659e+01,  8.07005936e+01,  3.41332941e+01,  1.14147549e+02,\n",
       "        6.28721440e+01, -7.70451238e+01,  2.16544251e+01,  5.09063505e+01,\n",
       "        7.24963733e+00, -6.36783882e+00,  5.57335376e+01, -8.69149660e+01,\n",
       "        3.62292117e+01,  6.62200347e+01,  1.73456100e+01,  1.68004567e+00,\n",
       "       -3.78900464e+01,  4.47360991e+01,  2.53448656e+01, -3.27952064e+01,\n",
       "       -5.00550253e+01,  3.53909071e+01,  6.45700409e+01,  1.61572130e+01,\n",
       "       -2.98651621e+01, -1.35872406e+02, -2.81188922e+01,  1.99813933e+01,\n",
       "        2.28529719e+01,  1.75896718e+01,  8.49295103e+00, -5.53646212e+01,\n",
       "        1.05928314e+02, -1.94239346e+01, -6.43586322e+01, -3.15658321e+00,\n",
       "        5.75015839e+01,  6.41718319e+01,  4.82601621e+01,  7.41977055e-01,\n",
       "        1.92298098e+01, -3.62411190e+01,  6.13392533e+01, -2.87138076e+01,\n",
       "        2.77325656e+01,  2.17997833e+01, -2.11408075e+01, -1.25463255e+01,\n",
       "       -6.90450068e+01,  1.69278015e+02,  1.08864818e+00,  1.94480079e+01,\n",
       "        3.97154401e+01,  8.84396712e+01, -6.80592210e+01,  2.28214382e+01,\n",
       "        9.79442792e+00,  9.94712100e+01, -2.10261192e+00,  4.54466371e+01,\n",
       "        5.00154165e+01,  1.55022657e+01, -1.53254375e+01,  9.21487091e+00,\n",
       "        3.21528643e+01,  8.31454737e+01, -2.98099210e+01,  1.17336863e+01,\n",
       "        1.99196109e+01,  2.17182611e+01,  4.18574111e+01, -4.69244139e+01,\n",
       "        2.86146337e+01,  2.87550067e+01, -9.82565391e+00, -4.79927275e+00,\n",
       "       -2.37779163e+01,  5.04845015e+00,  1.81517067e+02, -1.58942575e+01,\n",
       "        3.14542808e+01,  5.29812184e+01,  7.44879070e+01, -3.11697956e+00,\n",
       "       -3.24018004e+01, -8.64692992e+01, -2.59932287e+01,  2.37256406e+01,\n",
       "        2.68305376e+01,  1.51644441e+01,  5.20476378e+00,  3.94121724e+01,\n",
       "        4.49297900e+01,  7.90960699e+01,  7.78631579e+01,  4.92398790e+01,\n",
       "       -7.38217694e+01,  3.53295195e+01, -1.62203823e+01,  3.92987002e+01,\n",
       "        6.70163760e+01,  1.63019627e+00, -4.25773918e+01,  4.50044321e+01,\n",
       "        7.83736397e+01, -7.40145321e+01, -8.45334274e+01,  1.48500113e+01,\n",
       "        2.10487793e+01,  2.92047353e+01,  1.18353277e+00, -2.06655063e+01,\n",
       "        6.53152669e+01,  2.84934520e+01,  6.14569216e+01,  2.29690694e+00,\n",
       "        5.60683994e+01, -1.95447485e+01,  2.54384515e+00, -4.17068260e-01,\n",
       "        3.39000121e+01,  1.53614824e+02, -5.80894191e+01, -3.58879819e+01,\n",
       "        8.16008592e+01,  9.55133261e+00,  1.57057213e+01,  4.40401815e+01,\n",
       "       -3.37050978e+01,  1.61655926e+01, -1.69159873e+01,  2.84308452e+01,\n",
       "       -2.05118383e+01,  4.66964794e+01,  1.33423012e+01,  3.94154730e+01,\n",
       "        5.96064829e+01,  1.03962993e+01, -1.13353308e+01, -6.65967677e+01,\n",
       "        4.25197403e+00, -2.92489338e+01, -2.87691589e+01, -4.99227736e-01,\n",
       "        8.56282428e+01, -3.08663068e+01,  4.59278349e+01, -6.27656682e+00,\n",
       "        2.94910938e+01,  1.36498589e+01,  1.87722943e+01,  1.60972033e+01,\n",
       "       -1.91386911e+01,  6.87547716e+01,  1.53067331e+02,  2.13342801e+01,\n",
       "        1.04830457e+02,  3.47849602e+01,  6.35141982e+01, -1.35774951e+01,\n",
       "        8.02138062e+01,  6.53817321e+00,  6.12929093e+01,  7.31638296e+01,\n",
       "        1.78356405e+01,  2.88350013e+01, -5.54499318e+01,  6.85703923e+01,\n",
       "       -1.40327195e+00,  1.17648538e+02,  8.29242461e+01,  7.78635123e+01,\n",
       "        1.23541877e+01,  6.16126358e+01,  1.35969763e+01,  1.85306045e+01,\n",
       "       -2.60739409e+01,  6.65066963e+01, -1.95465208e+01,  5.99953499e+01,\n",
       "       -1.65251678e+01, -2.20735787e+01,  8.34690363e+01,  8.04361008e+01,\n",
       "       -5.42381244e-01, -4.95742779e+01,  3.83178012e+01,  2.98904754e+01,\n",
       "       -5.59569097e+01, -6.86022215e+01,  5.23899445e+01,  4.30520421e+01,\n",
       "       -4.02298003e+01,  1.74860571e+00,  4.88728805e+01, -2.08527394e+01,\n",
       "       -5.44291469e+01,  6.11061324e+01, -3.26199185e+01, -1.34474932e+00,\n",
       "        7.92452199e+01,  5.07722240e+01,  6.03799818e+01,  1.13670777e+02,\n",
       "        1.31856791e+01, -4.40055104e+01,  2.18132769e+01, -2.61971051e+01,\n",
       "        2.17530927e+01, -1.09900214e+02,  3.06853513e+01,  5.24014750e+01,\n",
       "        2.88598956e+01,  5.60136052e+00, -3.45881799e+01,  6.43218790e+00,\n",
       "       -3.70065388e+01,  3.32982795e+01, -9.58223060e+01,  3.83576027e+01,\n",
       "        5.73704684e+01,  5.46853681e+01,  2.50144133e+01, -1.97490968e+01,\n",
       "       -6.17745985e+00,  2.17284932e+00,  2.83741796e+01,  1.11333885e+01,\n",
       "        1.40499293e+01, -5.28174585e+01,  5.32710816e+00, -7.62378574e+01,\n",
       "        4.20119434e+00, -7.36488881e+01, -3.21541220e+01, -6.49046232e+00,\n",
       "        1.83074183e+01,  7.99961405e+01,  7.14179549e+01, -1.06846428e+01,\n",
       "       -7.48331525e+01, -1.31440613e+01, -1.09953172e+00,  1.83730100e+01,\n",
       "        2.33837908e+01, -8.69293185e+01,  2.13832189e+01,  1.17331624e+01,\n",
       "        1.54643742e+01,  4.73650052e+01,  3.54473115e+01,  3.92700033e+01,\n",
       "        2.64091106e+00,  3.86180845e+01, -4.22214248e+00,  1.31809169e+02,\n",
       "        9.28251914e+01, -3.28904163e+01, -4.74505665e+01, -9.68437391e+00,\n",
       "        3.81857641e+01,  1.54321768e+01, -2.98859239e+01, -7.03676774e+01,\n",
       "        3.05888054e+01, -1.35099711e+00, -9.77193746e+00,  3.84232475e+01,\n",
       "        2.93885942e+01, -7.36136538e+00,  2.62875172e+01,  4.72720159e+00,\n",
       "       -2.36231380e+01, -2.45403398e+00,  3.61579456e+01,  1.00804001e+01,\n",
       "        8.25005127e+01,  4.61674218e+01,  9.31648812e+01, -1.39087034e+01,\n",
       "       -2.07868593e+01, -2.26899452e+01, -1.74381283e+01,  3.23597951e+01,\n",
       "       -6.80372192e+01,  4.74526432e+01,  8.44323027e+01,  1.04043021e+01,\n",
       "        1.37534575e+01,  6.06512688e+01, -1.97222832e+00,  2.36595043e+01,\n",
       "       -1.80767408e+01,  4.58128074e+01, -6.53494394e+01,  3.63162922e+01,\n",
       "        5.11086869e+01,  9.16490143e+01,  1.53752011e+01,  2.89568999e+01,\n",
       "       -2.82703457e+01, -9.68652863e+00, -9.14032208e+01,  3.91754584e+00,\n",
       "        9.32395417e+00, -9.09214635e+01,  6.84121690e+01,  1.94886330e+01,\n",
       "       -1.15208865e+02,  1.99911204e+01,  5.95738551e+01, -3.05776579e+01,\n",
       "        1.17490934e+02,  5.50689776e+01, -8.59815122e+01, -2.29324362e+01,\n",
       "       -2.27338550e+00,  2.56310326e+01,  1.92293576e+01, -6.28445961e+01,\n",
       "        9.09248438e+01,  2.74643714e+01,  8.05169037e+01,  5.42095932e+01,\n",
       "       -2.28447497e+01, -1.21522500e+00,  1.46630247e+01, -8.12890823e+01,\n",
       "       -3.96591617e+01,  6.30242733e+01, -6.89370178e+01,  3.77975240e+01,\n",
       "        5.92709024e+01,  3.12471675e+01, -9.99099730e+01,  3.35088910e+00,\n",
       "        6.82092395e+01,  1.09503513e+02, -3.94141355e+01, -4.73241040e+01,\n",
       "       -8.70202689e+00, -4.51696088e+01, -8.22694511e+01, -5.67823507e+01,\n",
       "        7.53059138e+01,  5.23491399e+00,  4.73781724e+01, -2.92230904e+01,\n",
       "        5.07350290e+00,  1.24222039e+01, -2.72630425e+01, -5.92831639e+01,\n",
       "       -3.71721822e+00, -3.78616061e+00,  6.52104371e+00,  4.82668486e+01,\n",
       "       -3.11565797e+01,  9.63052339e+00, -2.09139621e+01, -2.98449802e+01,\n",
       "        7.94890083e+01,  5.07854456e+01, -5.95749543e+01,  4.34683014e+01,\n",
       "       -3.85043926e+01, -1.93840088e+01,  7.01969198e+01, -3.70288392e+01,\n",
       "        1.35455961e+01,  4.90146053e+01, -5.36150445e+01,  7.15915530e+01,\n",
       "       -9.73050138e+00,  4.12702641e+00, -1.70500602e+02,  1.04444168e+02,\n",
       "        2.53414354e+01, -3.73525421e+01, -1.99103422e+01,  3.66114418e+01,\n",
       "        3.99053829e+01, -2.55665429e+01, -4.04922932e+01,  8.95980514e+00,\n",
       "       -3.74675802e+01, -1.08284714e+02,  7.81023170e+01,  1.74608441e+01,\n",
       "       -2.51319932e+00, -3.59811271e+01, -8.65466906e+00,  5.02507287e+01,\n",
       "        1.22808447e+02,  4.98906181e+01,  3.41712180e+00,  1.84519983e+01,\n",
       "        1.59991936e+01, -4.41862690e+01, -4.79251394e+01, -3.13889947e+01,\n",
       "        1.55676142e+01,  4.72379273e+01,  2.98398224e+01,  6.08694062e+01,\n",
       "        1.59575208e+01, -2.62494803e+01,  5.54924602e+01,  1.33598326e+01,\n",
       "        4.50499780e+01, -6.15636619e+01, -2.96443914e+01,  2.75324460e+00,\n",
       "       -5.27456054e+01, -4.20552904e+01,  2.39961708e+01, -4.71080204e+01,\n",
       "       -3.74148772e+01, -1.73371412e+01,  1.36496616e+01, -1.34514464e+01,\n",
       "       -9.08060711e+00,  4.32160944e+01, -2.21585292e+01, -6.02998086e+01,\n",
       "       -2.30898794e+01,  3.88644482e+01,  7.29288978e+01, -2.91325839e+00,\n",
       "        8.05724716e+01, -1.54458346e+01, -4.97703573e+01,  1.09212186e+02,\n",
       "        7.41539465e+01, -1.35559796e+01,  4.78210262e+01, -3.02415269e+01,\n",
       "        8.53578734e+01,  5.21193619e+01,  3.18634181e+01, -2.74844968e+01,\n",
       "       -4.81076311e+01,  1.78252786e+01,  7.91272610e+01, -2.01249518e+01,\n",
       "        7.31451996e+00,  9.47807858e+00,  9.24954699e+01,  7.31736095e+01,\n",
       "       -1.07382072e+00,  2.23815519e+00,  9.78927774e+01,  1.32642303e+01,\n",
       "        1.10698518e+02,  5.99369410e+01, -2.20864395e+01, -3.65159774e+01,\n",
       "        6.32448258e+01,  3.66694429e+01, -6.25956049e+01, -2.20799087e+01,\n",
       "        5.30648845e+01,  4.20562658e-01, -3.04150704e+01, -1.92326937e+01,\n",
       "        2.25571621e+00,  2.46111072e+01, -5.57730286e+01,  1.65380175e+01,\n",
       "       -1.26909186e+01, -5.33780801e+01,  4.36086132e+01,  8.05768194e+01,\n",
       "       -5.61086286e+01,  5.43887512e+01,  1.02199149e+02,  2.51644231e+01,\n",
       "        4.76105222e+00, -2.42874797e+00, -3.08281136e+01,  5.18921027e+01,\n",
       "        4.92147618e+01,  1.59135334e+01,  1.68405997e+01,  5.80747226e+01,\n",
       "        9.96385229e+01, -2.53149742e+01,  1.35141071e+02,  7.51641699e+01,\n",
       "       -6.65059038e+01,  1.88942182e+01, -1.80178976e+01, -7.05320105e+01,\n",
       "       -5.07217036e+00,  7.41784816e+01, -5.70331972e+01,  3.38215009e+01,\n",
       "        2.99528696e+01,  3.28266962e+01, -2.30373468e+01,  5.47444851e+01,\n",
       "       -2.91478078e+01, -4.61509916e+01, -1.64749105e+00,  3.58759962e+01,\n",
       "       -1.06919194e+02,  2.24853909e+01,  3.11656337e+01, -3.61731847e+01,\n",
       "        2.50488615e+00,  1.78520427e+01,  4.70024487e+01,  6.58542196e+01,\n",
       "       -5.66249888e+01,  4.47592676e+01, -1.79163850e+01,  3.82315599e+01,\n",
       "       -8.20814197e+01,  3.17208059e+01, -1.45580202e+01,  4.94928746e+01,\n",
       "        1.36772679e+01,  2.50159612e+01,  5.37993702e+01,  2.86932393e+01,\n",
       "        2.40201173e+01,  3.80568479e+01,  3.09700494e+01, -4.63100341e+01,\n",
       "        4.51103324e+01,  8.13864330e+01, -4.87616411e+01, -4.29741349e+01,\n",
       "       -3.33278325e+01, -6.70568269e+01,  3.63482393e+01,  3.68466900e+00,\n",
       "       -3.00756482e+01, -3.08186044e+01,  7.79121546e+01,  2.78793889e+01,\n",
       "       -2.37361528e+01, -1.58436147e+01, -3.92924730e+01, -5.12430072e+01,\n",
       "       -1.35478266e+01,  6.52921187e+01,  7.54279064e+01,  5.23820949e+01,\n",
       "        1.70471755e+01, -1.35826168e+01,  2.72749029e+01,  1.33150849e+00,\n",
       "        6.93900734e+01, -8.88214839e+00,  3.85225356e+01, -8.47384443e+00,\n",
       "       -4.07986349e+01,  1.69766635e+01, -5.96660806e+01,  2.89146502e+01,\n",
       "        1.99398471e+01, -3.40143192e+01, -9.35669444e+00, -3.58497650e+01,\n",
       "        3.47503643e+01, -1.02064231e+02, -6.93518232e+01, -2.15774674e+01,\n",
       "       -3.47689832e+01, -1.68144461e+01, -1.56789059e+01, -1.52392237e+01,\n",
       "        2.72388524e+00,  3.29954160e+01,  4.84790477e+01,  1.02646781e+00,\n",
       "        3.87837977e+01,  2.13271133e+01,  2.25219175e+01,  3.15266607e-01,\n",
       "        6.83613259e+01, -4.51646845e+00, -1.66658359e+01, -9.48086234e+00,\n",
       "        1.03623111e+01,  2.40648791e+01, -4.29871622e+01,  4.11764303e+01,\n",
       "       -5.01551368e+01,  7.06547351e+01,  5.90242364e+00, -1.53324397e+01,\n",
       "        1.50964581e+00,  2.11548311e+01,  5.11267238e+01, -5.01221185e+01,\n",
       "       -3.83059602e+01, -2.43919334e+01, -5.35156925e+01,  6.60034956e+01,\n",
       "        2.71187908e+01,  1.00477158e+01, -2.27442926e+01,  1.76506187e+00,\n",
       "        3.22085937e+01,  3.64475375e+01, -9.98284608e+01, -1.47461137e+01,\n",
       "        8.74831018e+00, -3.68567469e+01,  2.67714027e+01,  2.54456931e+01,\n",
       "       -6.59647701e+01,  8.77101542e+00, -2.28189108e+01,  1.35336894e+02,\n",
       "       -7.54051132e+01,  9.06718963e+01,  4.98646744e+01, -2.99391113e+01,\n",
       "        1.37205298e+00, -1.61350409e+01, -6.60788866e+01, -5.13640995e+01,\n",
       "       -9.13505833e-01, -3.93676344e+01,  6.07434657e+01,  4.71845920e+01,\n",
       "        9.69852194e+01,  9.36152119e+01, -1.66411363e+00,  6.45559036e+01,\n",
       "       -5.38022237e+01,  1.08950346e+01, -4.80582215e+00,  4.32973715e+01,\n",
       "       -4.29068840e+01, -5.82732952e+01,  1.05542864e+02,  2.19484046e+01,\n",
       "        9.18223276e+01, -1.67032018e+01, -4.44570718e+01, -9.18043097e+00,\n",
       "       -8.04660127e+00, -1.50802884e+01, -5.30415707e-01, -3.08809574e+01,\n",
       "        2.60513097e+01,  1.37270709e+00,  4.43498865e+01,  1.59004969e+01,\n",
       "        2.54634943e+01, -9.38340216e+01,  4.98739910e+01, -4.68232778e+01,\n",
       "       -1.05373350e+01,  7.51800347e+01,  1.34431009e+01, -2.28615464e+00,\n",
       "        2.74275065e+01, -5.80536972e+00, -1.12661706e+01,  5.82128362e+01,\n",
       "        2.14056607e+01, -3.92258377e+01,  3.31623215e+01, -1.93230848e+01,\n",
       "        3.72310663e+01, -3.15227707e+01,  6.43409924e+01,  7.68514771e+01,\n",
       "        2.19922052e+01, -1.35709226e+01, -1.83713812e+01,  8.28302378e+01,\n",
       "       -4.62404095e+01, -3.65673503e+01,  1.70182367e+01, -6.54826723e+00,\n",
       "        6.90510900e+01,  9.40199347e+00, -1.54868690e+01, -2.54040758e+01,\n",
       "        3.75658469e+01, -3.64669912e+01,  5.26383657e+01, -8.28494129e+01,\n",
       "        8.02765177e+01, -8.20213907e+00,  9.31114152e+01, -4.70749621e+01,\n",
       "        5.78895972e+01,  1.19631162e+01,  3.32402055e+00,  1.80624652e+01,\n",
       "        1.96267628e+01,  3.96255304e+01,  3.33772502e+01, -7.65740650e+00,\n",
       "       -3.33505370e+01,  1.18518985e+01,  9.85407634e+01,  8.17508538e+01,\n",
       "        3.07691181e+01,  5.84687845e+01,  1.16163522e+02, -1.87602662e+01,\n",
       "       -3.43076951e+01, -9.13622547e+01, -6.40304090e+01, -1.04244445e+01,\n",
       "        3.45176439e+01, -4.13496444e+01,  1.39864042e+02, -2.17115437e+01,\n",
       "       -6.32386254e+01, -4.73023855e+01, -6.84301922e+01, -9.13704507e+01])"
      ]
     },
     "execution_count": 37,
     "metadata": {},
     "output_type": "execute_result"
    }
   ],
   "source": [
    "# Generate 1,000 normally distributed numbers with the average of 10 and standard deviation of 50\n",
    "normal(10,50,1000)"
   ]
  },
  {
   "cell_type": "code",
   "execution_count": 54,
   "metadata": {},
   "outputs": [
    {
     "data": {
      "text/plain": [
       "<AxesSubplot:ylabel='Count'>"
      ]
     },
     "execution_count": 54,
     "metadata": {},
     "output_type": "execute_result"
    },
    {
     "data": {
      "image/png": "[encoded data removed]",
      "text/plain": [
       "<Figure size 720x432 with 1 Axes>"
      ]
     },
     "metadata": {
      "needs_background": "light"
     },
     "output_type": "display_data"
    }
   ],
   "source": [
    "sns.histplot(bins=100, data=normal(10,1,1000))"
   ]
  },
  {
   "cell_type": "code",
   "execution_count": 55,
   "metadata": {},
   "outputs": [
    {
     "data": {
      "text/plain": [
       "<AxesSubplot:ylabel='Count'>"
      ]
     },
     "execution_count": 55,
     "metadata": {},
     "output_type": "execute_result"
    },
    {
     "data": {
      "image/png": "[encoded data removed]",
      "text/plain": [
       "<Figure size 720x432 with 1 Axes>"
      ]
     },
     "metadata": {
      "needs_background": "light"
     },
     "output_type": "display_data"
    }
   ],
   "source": [
    "sns.histplot(bins=100, data=normal(10,50,1000))"
   ]
  },
  {
   "cell_type": "markdown",
   "metadata": {},
   "source": [
    "How are the two distributions different?"
   ]
  },
  {
   "cell_type": "code",
   "execution_count": 4,
   "metadata": {
    "ExecuteTime": {
     "end_time": "2019-08-02T06:07:54.816439Z",
     "start_time": "2019-08-02T06:07:54.814409Z"
    }
   },
   "outputs": [],
   "source": [
    "# The second one has more extreme values than the first one"
   ]
  },
  {
   "cell_type": "markdown",
   "metadata": {},
   "source": [
    "## Normal Distribution of Real Data\n",
    "\n",
    "In this challenge we are going to take a look the real data. We will use vehicles.csv file for this exercise"
   ]
  },
  {
   "cell_type": "markdown",
   "metadata": {},
   "source": [
    "First import vehicles.csv.\n",
    "Then plot the histograms for the following variables:\n",
    "\n",
    "1. Fuel Barrels/Year"
   ]
  },
  {
   "cell_type": "code",
   "execution_count": 57,
   "metadata": {
    "ExecuteTime": {
     "end_time": "2019-08-02T06:07:54.820851Z",
     "start_time": "2019-08-02T06:07:54.818504Z"
    }
   },
   "outputs": [
    {
     "data": {
      "text/html": [
       "<div>\n",
       "<style scoped>\n",
       "    .dataframe tbody tr th:only-of-type {\n",
       "        vertical-align: middle;\n",
       "    }\n",
       "\n",
       "    .dataframe tbody tr th {\n",
       "        vertical-align: top;\n",
       "    }\n",
       "\n",
       "    .dataframe thead th {\n",
       "        text-align: right;\n",
       "    }\n",
       "</style>\n",
       "<table border=\"1\" class=\"dataframe\">\n",
       "  <thead>\n",
       "    <tr style=\"text-align: right;\">\n",
       "      <th></th>\n",
       "      <th>Make</th>\n",
       "      <th>Model</th>\n",
       "      <th>Year</th>\n",
       "      <th>Engine Displacement</th>\n",
       "      <th>Cylinders</th>\n",
       "      <th>Transmission</th>\n",
       "      <th>Drivetrain</th>\n",
       "      <th>Vehicle Class</th>\n",
       "      <th>Fuel Type</th>\n",
       "      <th>Fuel Barrels/Year</th>\n",
       "      <th>City MPG</th>\n",
       "      <th>Highway MPG</th>\n",
       "      <th>Combined MPG</th>\n",
       "      <th>CO2 Emission Grams/Mile</th>\n",
       "      <th>Fuel Cost/Year</th>\n",
       "    </tr>\n",
       "  </thead>\n",
       "  <tbody>\n",
       "    <tr>\n",
       "      <th>0</th>\n",
       "      <td>AM General</td>\n",
       "      <td>DJ Po Vehicle 2WD</td>\n",
       "      <td>1984</td>\n",
       "      <td>2.5</td>\n",
       "      <td>4.0</td>\n",
       "      <td>Automatic 3-spd</td>\n",
       "      <td>2-Wheel Drive</td>\n",
       "      <td>Special Purpose Vehicle 2WD</td>\n",
       "      <td>Regular</td>\n",
       "      <td>19.388824</td>\n",
       "      <td>18</td>\n",
       "      <td>17</td>\n",
       "      <td>17</td>\n",
       "      <td>522.764706</td>\n",
       "      <td>1950</td>\n",
       "    </tr>\n",
       "    <tr>\n",
       "      <th>1</th>\n",
       "      <td>AM General</td>\n",
       "      <td>FJ8c Post Office</td>\n",
       "      <td>1984</td>\n",
       "      <td>4.2</td>\n",
       "      <td>6.0</td>\n",
       "      <td>Automatic 3-spd</td>\n",
       "      <td>2-Wheel Drive</td>\n",
       "      <td>Special Purpose Vehicle 2WD</td>\n",
       "      <td>Regular</td>\n",
       "      <td>25.354615</td>\n",
       "      <td>13</td>\n",
       "      <td>13</td>\n",
       "      <td>13</td>\n",
       "      <td>683.615385</td>\n",
       "      <td>2550</td>\n",
       "    </tr>\n",
       "    <tr>\n",
       "      <th>2</th>\n",
       "      <td>AM General</td>\n",
       "      <td>Post Office DJ5 2WD</td>\n",
       "      <td>1985</td>\n",
       "      <td>2.5</td>\n",
       "      <td>4.0</td>\n",
       "      <td>Automatic 3-spd</td>\n",
       "      <td>Rear-Wheel Drive</td>\n",
       "      <td>Special Purpose Vehicle 2WD</td>\n",
       "      <td>Regular</td>\n",
       "      <td>20.600625</td>\n",
       "      <td>16</td>\n",
       "      <td>17</td>\n",
       "      <td>16</td>\n",
       "      <td>555.437500</td>\n",
       "      <td>2100</td>\n",
       "    </tr>\n",
       "    <tr>\n",
       "      <th>3</th>\n",
       "      <td>AM General</td>\n",
       "      <td>Post Office DJ8 2WD</td>\n",
       "      <td>1985</td>\n",
       "      <td>4.2</td>\n",
       "      <td>6.0</td>\n",
       "      <td>Automatic 3-spd</td>\n",
       "      <td>Rear-Wheel Drive</td>\n",
       "      <td>Special Purpose Vehicle 2WD</td>\n",
       "      <td>Regular</td>\n",
       "      <td>25.354615</td>\n",
       "      <td>13</td>\n",
       "      <td>13</td>\n",
       "      <td>13</td>\n",
       "      <td>683.615385</td>\n",
       "      <td>2550</td>\n",
       "    </tr>\n",
       "    <tr>\n",
       "      <th>4</th>\n",
       "      <td>ASC Incorporated</td>\n",
       "      <td>GNX</td>\n",
       "      <td>1987</td>\n",
       "      <td>3.8</td>\n",
       "      <td>6.0</td>\n",
       "      <td>Automatic 4-spd</td>\n",
       "      <td>Rear-Wheel Drive</td>\n",
       "      <td>Midsize Cars</td>\n",
       "      <td>Premium</td>\n",
       "      <td>20.600625</td>\n",
       "      <td>14</td>\n",
       "      <td>21</td>\n",
       "      <td>16</td>\n",
       "      <td>555.437500</td>\n",
       "      <td>2550</td>\n",
       "    </tr>\n",
       "  </tbody>\n",
       "</table>\n",
       "</div>"
      ],
      "text/plain": [
       "               Make                Model  Year  Engine Displacement  \\\n",
       "0        AM General    DJ Po Vehicle 2WD  1984                  2.5   \n",
       "1        AM General     FJ8c Post Office  1984                  4.2   \n",
       "2        AM General  Post Office DJ5 2WD  1985                  2.5   \n",
       "3        AM General  Post Office DJ8 2WD  1985                  4.2   \n",
       "4  ASC Incorporated                  GNX  1987                  3.8   \n",
       "\n",
       "   Cylinders     Transmission        Drivetrain                Vehicle Class  \\\n",
       "0        4.0  Automatic 3-spd     2-Wheel Drive  Special Purpose Vehicle 2WD   \n",
       "1        6.0  Automatic 3-spd     2-Wheel Drive  Special Purpose Vehicle 2WD   \n",
       "2        4.0  Automatic 3-spd  Rear-Wheel Drive  Special Purpose Vehicle 2WD   \n",
       "3        6.0  Automatic 3-spd  Rear-Wheel Drive  Special Purpose Vehicle 2WD   \n",
       "4        6.0  Automatic 4-spd  Rear-Wheel Drive                 Midsize Cars   \n",
       "\n",
       "  Fuel Type  Fuel Barrels/Year  City MPG  Highway MPG  Combined MPG  \\\n",
       "0   Regular          19.388824        18           17            17   \n",
       "1   Regular          25.354615        13           13            13   \n",
       "2   Regular          20.600625        16           17            16   \n",
       "3   Regular          25.354615        13           13            13   \n",
       "4   Premium          20.600625        14           21            16   \n",
       "\n",
       "   CO2 Emission Grams/Mile  Fuel Cost/Year  \n",
       "0               522.764706            1950  \n",
       "1               683.615385            2550  \n",
       "2               555.437500            2100  \n",
       "3               683.615385            2550  \n",
       "4               555.437500            2550  "
      ]
     },
     "execution_count": 57,
     "metadata": {},
     "output_type": "execute_result"
    }
   ],
   "source": [
    "df = pd.read_csv('/Users/Júlia/Documents/Ironhack/5_Notebooks/notebooks/data/vehicles.csv')\n",
    "df.head()"
   ]
  },
  {
   "cell_type": "code",
   "execution_count": 90,
   "metadata": {},
   "outputs": [
    {
     "data": {
      "text/plain": [
       "<matplotlib.lines.Line2D at 0x28630632460>"
      ]
     },
     "execution_count": 90,
     "metadata": {},
     "output_type": "execute_result"
    },
    {
     "data": {
      "image/png": "[encoded data removed]",
      "text/plain": [
       "<Figure size 720x432 with 1 Axes>"
      ]
     },
     "metadata": {
      "needs_background": "light"
     },
     "output_type": "display_data"
    }
   ],
   "source": [
    "sns.histplot(bins=20, data=df['Fuel Barrels/Year'])\n",
    "plt.axvline(df['Fuel Barrels/Year'].mean(), color='black', linestyle='--')\n",
    "plt.axvline(df['Fuel Barrels/Year'].median(), color='red', linestyle='--')"
   ]
  },
  {
   "cell_type": "markdown",
   "metadata": {},
   "source": [
    "2. CO2 Emission Grams/Mile "
   ]
  },
  {
   "cell_type": "code",
   "execution_count": 89,
   "metadata": {},
   "outputs": [
    {
     "data": {
      "text/plain": [
       "<matplotlib.lines.Line2D at 0x2862f3daca0>"
      ]
     },
     "execution_count": 89,
     "metadata": {},
     "output_type": "execute_result"
    },
    {
     "data": {
      "image/png": "[encoded data removed]",
      "text/plain": [
       "<Figure size 720x432 with 1 Axes>"
      ]
     },
     "metadata": {
      "needs_background": "light"
     },
     "output_type": "display_data"
    }
   ],
   "source": [
    "sns.histplot(bins=20, data=df['CO2 Emission Grams/Mile'])\n",
    "plt.axvline(df['CO2 Emission Grams/Mile'].mean(), color='black', linestyle='--')\n",
    "plt.axvline(df['CO2 Emission Grams/Mile'].median(), color='red', linestyle='--')"
   ]
  },
  {
   "cell_type": "markdown",
   "metadata": {},
   "source": [
    "3. Combined MPG"
   ]
  },
  {
   "cell_type": "code",
   "execution_count": 88,
   "metadata": {},
   "outputs": [
    {
     "data": {
      "text/plain": [
       "<matplotlib.lines.Line2D at 0x2862f49dee0>"
      ]
     },
     "execution_count": 88,
     "metadata": {},
     "output_type": "execute_result"
    },
    {
     "data": {
      "image/png": "[encoded data removed]",
      "text/plain": [
       "<Figure size 720x432 with 1 Axes>"
      ]
     },
     "metadata": {
      "needs_background": "light"
     },
     "output_type": "display_data"
    }
   ],
   "source": [
    "sns.histplot(bins=20, data=df['Combined MPG'])\n",
    "plt.axvline(df['Combined MPG'].mean(), color='black', linestyle='--')\n",
    "plt.axvline(df['Combined MPG'].median(), color='red', linestyle='--')"
   ]
  },
  {
   "cell_type": "markdown",
   "metadata": {},
   "source": [
    "Which one(s) of the variables are nearly normally distributed? How do you know?"
   ]
  },
  {
   "cell_type": "code",
   "execution_count": 6,
   "metadata": {
    "ExecuteTime": {
     "end_time": "2019-08-02T06:07:54.886563Z",
     "start_time": "2019-08-02T06:07:54.883451Z"
    }
   },
   "outputs": [],
   "source": [
    "# The first two are relatively normal, since they are bell shaped and the median and the mean are very close\n",
    "# The last one is left-skewed, since the mean is not at the center of the histogram but on the left. The space between \n",
    "# the mean and the median is larger as well. "
   ]
  },
  {
   "cell_type": "markdown",
   "metadata": {},
   "source": [
    "## Exponential Distribution"
   ]
  },
  {
   "cell_type": "markdown",
   "metadata": {},
   "source": [
    "1. Using `numpy.random.exponential`, create a function that returns a list of numbers exponentially distributed with the mean of 10. \n",
    "\n",
    "1. Use the function to generate two number sequences with the size of 1 and 100.\n",
    "\n",
    "1. Plot the distributions as histograms with the nubmer of bins as 100."
   ]
  },
  {
   "cell_type": "code",
   "execution_count": 118,
   "metadata": {},
   "outputs": [],
   "source": [
    "# Using numpy.random.exponential, create a function that returns a list of \n",
    "# numbers exponentially distributed with the mean of 10.\n",
    "def exp(mean, count):\n",
    "    return np.random.exponential(scale=mean, size=count)"
   ]
  },
  {
   "cell_type": "code",
   "execution_count": 120,
   "metadata": {},
   "outputs": [
    {
     "data": {
      "text/plain": [
       "array([5.71645202])"
      ]
     },
     "execution_count": 120,
     "metadata": {},
     "output_type": "execute_result"
    }
   ],
   "source": [
    "# Use the function to generate a number sequences with the size of 1.\n",
    "exp(10, 1)"
   ]
  },
  {
   "cell_type": "code",
   "execution_count": 123,
   "metadata": {},
   "outputs": [
    {
     "data": {
      "text/plain": [
       "array([2.23642240e+00, 3.24691887e+01, 5.00281175e+00, 2.92737431e+00,\n",
       "       1.26169711e+01, 1.58464453e+00, 2.69903058e+00, 1.60783233e+00,\n",
       "       3.12779915e+00, 2.32253544e+01, 3.45946021e+01, 4.99755219e+01,\n",
       "       1.30681708e+01, 4.90051717e+00, 2.37483618e+00, 4.51382648e+00,\n",
       "       5.94671920e+00, 8.25548468e+00, 1.34716018e+01, 2.60889969e+01,\n",
       "       3.17030032e+00, 2.56894240e+01, 1.33978038e+01, 1.61756523e+01,\n",
       "       1.27824354e+01, 3.96403756e-01, 2.45450574e+00, 2.49398290e+01,\n",
       "       4.03556835e+00, 1.79990184e+01, 2.01965047e+01, 8.59060366e+00,\n",
       "       9.13812502e+00, 3.84885009e+00, 8.00158991e+00, 3.62662488e+00,\n",
       "       2.08453503e+01, 4.52882048e+00, 2.23788988e+00, 6.01584345e+00,\n",
       "       1.62468984e+01, 5.71137832e-02, 8.77438853e+00, 3.20258438e+01,\n",
       "       1.52761791e+01, 3.94068003e+00, 1.10108179e+01, 1.03006964e+01,\n",
       "       7.16443494e+00, 4.72260724e+01, 1.07396178e+01, 1.70362717e+01,\n",
       "       9.78697392e+00, 1.03905230e+01, 5.30952573e+00, 3.14079330e+00,\n",
       "       8.99754824e+00, 1.58587624e+01, 1.83898888e+01, 1.80193475e+01,\n",
       "       1.61587087e+00, 5.22703169e+00, 4.73798522e+00, 9.30990813e-01,\n",
       "       5.36857626e+00, 9.90391374e+00, 7.02941691e+01, 9.80983787e-01,\n",
       "       4.80171368e+00, 7.22218657e+00, 2.15619101e+00, 2.04764952e+00,\n",
       "       1.78172918e+01, 3.25363407e+00, 6.25457084e+00, 4.95752790e+00,\n",
       "       4.43590932e+00, 3.51088541e+00, 1.09158189e+01, 2.59813260e+01,\n",
       "       1.73877798e+01, 1.32164073e+00, 1.08652258e+00, 6.61534811e+00,\n",
       "       3.17974102e+00, 6.70041465e+00, 5.22867991e+00, 2.83046625e+01,\n",
       "       5.12325783e-01, 8.41917472e-01, 1.12783254e+00, 6.45687614e+00,\n",
       "       1.90058742e+00, 1.33944526e+00, 2.21765074e+01, 5.87711844e+00,\n",
       "       2.89972649e+00, 1.32687446e+01, 2.96207376e+01, 1.00555903e+00])"
      ]
     },
     "execution_count": 123,
     "metadata": {},
     "output_type": "execute_result"
    }
   ],
   "source": [
    "# Use the function to generate a number sequences with the size of 100.\n",
    "exp(10, 100)"
   ]
  },
  {
   "cell_type": "code",
   "execution_count": 136,
   "metadata": {},
   "outputs": [
    {
     "data": {
      "text/plain": [
       "<matplotlib.lines.Line2D at 0x28630e4d340>"
      ]
     },
     "execution_count": 136,
     "metadata": {},
     "output_type": "execute_result"
    },
    {
     "data": {
      "image/png": "[encoded data removed]",
      "text/plain": [
       "<Figure size 720x432 with 1 Axes>"
      ]
     },
     "metadata": {
      "needs_background": "light"
     },
     "output_type": "display_data"
    }
   ],
   "source": [
    "# Plot the distributions as histograms with the nubmer of bins as 100.\n",
    "data = exp(10, 1)\n",
    "sns.histplot(bins=100, data=data)\n",
    "plt.axvline(data.mean(), color='red', linestyle='--')"
   ]
  },
  {
   "cell_type": "code",
   "execution_count": 130,
   "metadata": {
    "ExecuteTime": {
     "end_time": "2019-08-02T06:07:55.006719Z",
     "start_time": "2019-08-02T06:07:55.004129Z"
    }
   },
   "outputs": [
    {
     "data": {
      "text/plain": [
       "<matplotlib.lines.Line2D at 0x28630bfb790>"
      ]
     },
     "execution_count": 130,
     "metadata": {},
     "output_type": "execute_result"
    },
    {
     "data": {
      "image/png": "[encoded data removed]",
      "text/plain": [
       "<Figure size 720x432 with 1 Axes>"
      ]
     },
     "metadata": {
      "needs_background": "light"
     },
     "output_type": "display_data"
    }
   ],
   "source": [
    "# Plot the distributions as histograms with the nubmer of bins as 100.\n",
    "data = exp(10, 100)\n",
    "sns.histplot(bins=100, data=data)\n",
    "plt.axvline(data.mean(), color='red', linestyle='--')"
   ]
  },
  {
   "cell_type": "markdown",
   "metadata": {},
   "source": [
    "How are the two distributions different?"
   ]
  },
  {
   "cell_type": "code",
   "execution_count": 8,
   "metadata": {
    "ExecuteTime": {
     "end_time": "2019-08-02T06:07:55.068339Z",
     "start_time": "2019-08-02T06:07:55.065924Z"
    }
   },
   "outputs": [],
   "source": [
    "# The greater the size of the sample, the closer the mean gets to 10. "
   ]
  },
  {
   "cell_type": "markdown",
   "metadata": {},
   "source": [
    "## Exponential Distribution of Real Data\n",
    "\n",
    "Suppose that the amount of time one spends in a bank is exponentially distributed with mean as 10 minutes (i.e. λ = 1/10). What is the probability that a customer will spend less than fifteen minutes in the bank? \n",
    "\n",
    "Write a code in python to solve this problem"
   ]
  },
  {
   "cell_type": "code",
   "execution_count": 148,
   "metadata": {
    "ExecuteTime": {
     "end_time": "2019-08-02T06:07:55.137100Z",
     "start_time": "2019-08-02T06:07:55.134100Z"
    }
   },
   "outputs": [
    {
     "name": "stdout",
     "output_type": "stream",
     "text": [
      "The probability that a customer will spend less than fifteen minutes in the bank is 0.7768698398515702\n"
     ]
    }
   ],
   "source": [
    "print('The probability that a customer will spend less than fifteen minutes in the bank is', stats.expon(scale=10).cdf(15))"
   ]
  },
  {
   "cell_type": "markdown",
   "metadata": {},
   "source": [
    "What is the probability that the customer will spend more than 15 minutes"
   ]
  },
  {
   "cell_type": "code",
   "execution_count": 149,
   "metadata": {},
   "outputs": [
    {
     "name": "stdout",
     "output_type": "stream",
     "text": [
      "The probability that the customer will spend more than 15 minutes is 0.22313016014842982\n"
     ]
    }
   ],
   "source": [
    "print('The probability that the customer will spend more than 15 minutes is', stats.expon(scale=10).sf(15))"
   ]
  }
 ],
 "metadata": {
  "kernelspec": {
   "display_name": "Python 3",
   "language": "python",
   "name": "python3"
  },
  "language_info": {
   "codemirror_mode": {
    "name": "ipython",
    "version": 3
   },
   "file_extension": ".py",
   "mimetype": "text/x-python",
   "name": "python",
   "nbconvert_exporter": "python",
   "pygments_lexer": "ipython3",
   "version": "3.9.1"
  },
  "toc": {
   "base_numbering": 1,
   "nav_menu": {},
   "number_sections": true,
   "sideBar": true,
   "skip_h1_title": false,
   "title_cell": "Table of Contents",
   "title_sidebar": "Contents",
   "toc_cell": false,
   "toc_position": {},
   "toc_section_display": true,
   "toc_window_display": false
  },
  "varInspector": {
   "cols": {
    "lenName": 16,
    "lenType": 16,
    "lenVar": 40
   },
   "kernels_config": {
    "python": {
     "delete_cmd_postfix": "",
     "delete_cmd_prefix": "del ",
     "library": "var_list.py",
     "varRefreshCmd": "print(var_dic_list())"
    },
    "r": {
     "delete_cmd_postfix": ") ",
     "delete_cmd_prefix": "rm(",
     "library": "var_list.r",
     "varRefreshCmd": "cat(var_dic_list()) "
    }
   },
   "types_to_exclude": [
    "module",
    "function",
    "builtin_function_or_method",
    "instance",
    "_Feature"
   ],
   "window_display": false
  }
 },
 "nbformat": 4,
 "nbformat_minor": 2
}
